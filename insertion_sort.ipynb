{
  "nbformat": 4,
  "nbformat_minor": 0,
  "metadata": {
    "colab": {
      "provenance": [],
      "authorship_tag": "ABX9TyOrX93YVDbjBAg9Nqs/AMOJ",
      "include_colab_link": true
    },
    "kernelspec": {
      "name": "python3",
      "display_name": "Python 3"
    },
    "language_info": {
      "name": "python"
    }
  },
  "cells": [
    {
      "cell_type": "markdown",
      "metadata": {
        "id": "view-in-github",
        "colab_type": "text"
      },
      "source": [
        "<a href=\"https://colab.research.google.com/github/Wamikmk/DSA-in-Python/blob/main/insertion_sort.ipynb\" target=\"_parent\"><img src=\"https://colab.research.google.com/assets/colab-badge.svg\" alt=\"Open In Colab\"/></a>"
      ]
    },
    {
      "cell_type": "markdown",
      "source": [
        "###Insertion Sort\n",
        "\n",
        "\n",
        "*   **Insertion Sort is an algorithim that sorts an unsorted list.**\n",
        "*   **The time complexity of the below algorithim is O(n^2)**\n",
        "\n"
      ],
      "metadata": {
        "id": "gSWPo3jc7R3p"
      }
    },
    {
      "cell_type": "code",
      "execution_count": 1,
      "metadata": {
        "id": "O7NeAO4k65WR"
      },
      "outputs": [],
      "source": [
        "def insertion_sort(array):\n",
        "\n",
        "  for i in range(1,len(array)):\n",
        "    element = array[i]\n",
        "\n",
        "    j = i-1\n",
        "\n",
        "    while element < array[j] and j >= 0:\n",
        "      array[j],array[j+1] = array[j+1], array[j]\n",
        "      j= j-1\n",
        "\n",
        "  return array\n",
        ""
      ]
    },
    {
      "cell_type": "code",
      "source": [
        "myArray = [10,1,7,8,2,11]\n",
        "\n",
        "\n",
        "insertion_sort(myArray)"
      ],
      "metadata": {
        "colab": {
          "base_uri": "https://localhost:8080/"
        },
        "id": "e1ejPp3E7JMG",
        "outputId": "3b174e0d-b47d-4e9d-885d-296031e9b077"
      },
      "execution_count": 3,
      "outputs": [
        {
          "output_type": "execute_result",
          "data": {
            "text/plain": [
              "[1, 2, 7, 8, 10, 11]"
            ]
          },
          "metadata": {},
          "execution_count": 3
        }
      ]
    }
  ]
}